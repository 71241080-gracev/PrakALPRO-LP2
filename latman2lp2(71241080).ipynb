{
 "cells": [
  {
   "cell_type": "code",
   "execution_count": 3,
   "id": "1ded1e13-4e44-44c7-85d2-46b89c9bd409",
   "metadata": {},
   "outputs": [
    {
     "name": "stdin",
     "output_type": "stream",
     "text": [
      "Masukkan x =  3\n"
     ]
    },
    {
     "name": "stdout",
     "output_type": "stream",
     "text": [
      "Hasil : 65\n"
     ]
    }
   ],
   "source": [
    "x=int(input(\"Masukkan x (x=bil. bulat) = \"))\n",
    "fungsi=(((2*x**3)+(2*x))+(15/x))\n",
    "print(\"Hasil :\", round(fungsi))"
   ]
  }
 ],
 "metadata": {
  "kernelspec": {
   "display_name": "Python 3 (ipykernel)",
   "language": "python",
   "name": "python3"
  },
  "language_info": {
   "codemirror_mode": {
    "name": "ipython",
    "version": 3
   },
   "file_extension": ".py",
   "mimetype": "text/x-python",
   "name": "python",
   "nbconvert_exporter": "python",
   "pygments_lexer": "ipython3",
   "version": "3.12.7"
  }
 },
 "nbformat": 4,
 "nbformat_minor": 5
}
