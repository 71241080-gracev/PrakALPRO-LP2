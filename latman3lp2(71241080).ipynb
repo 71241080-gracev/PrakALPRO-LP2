{
 "cells": [
  {
   "cell_type": "code",
   "execution_count": 1,
   "id": "db32d3d3-3605-41be-901f-457182fbd455",
   "metadata": {},
   "outputs": [
    {
     "name": "stdin",
     "output_type": "stream",
     "text": [
      "Gaji per jam =  200000\n",
      "Jam kerja selama seminggu =  49\n"
     ]
    },
    {
     "name": "stdout",
     "output_type": "stream",
     "text": [
      "Pendapatan Budi sebelum membayar pajak = 49000000\n",
      "Pendapatan Budi setelah membayar pajak = 42140000\n",
      "Yang akan dihabiskan untuk membeli pakaian dan aksesoris = 4214000\n",
      "Yang akan dihabiskan untuk membeli alat tulis = 421400\n",
      "Yang akan disedekahkan = 9376150\n",
      "Yang akan diterima anak yatim = 2812800\n",
      "Yang akan diterima kaum dhuafa = 6563350\n"
     ]
    }
   ],
   "source": [
    "gaji_perjam=float(input(\"Gaji per jam = \"))\n",
    "jamkerjaseminggu=float(input(\"Jam kerja selama seminggu = \"))\n",
    "#kerja 5 minggu\n",
    "pendapatan_tanpapajak=gaji_perjam*(jamkerjaseminggu*5)\n",
    "#14%=14/100=0.14\n",
    "pendapatandgnpajak=pendapatan_tanpapajak-(pendapatan_tanpapajak*0.14)\n",
    "#10%=10/100=0.1\n",
    "belibajuaksesoris=pendapatandgnpajak*0.1\n",
    "#1%=1/100=0.01\n",
    "belialattulis=pendapatandgnpajak*0.01\n",
    "habisbeli=pendapatandgnpajak-(belibajuaksesoris+belialattulis)\n",
    "#25%=25/100=0.25\n",
    "buatsedekah=habisbeli*0.25\n",
    "x=buatsedekah//1000\n",
    "#setiap 1000, 30% buat anak yatim, 30%=30/100=0.3\n",
    "buatanakyatim=x*(1000*0.3)\n",
    "buatkaumdhuafa=buatsedekah-buatanakyatim\n",
    "\n",
    "print(\"Pendapatan Budi sebelum membayar pajak =\", round(pendapatan_tanpapajak))\n",
    "print(\"Pendapatan Budi setelah membayar pajak =\", round(pendapatandgnpajak))\n",
    "print(\"Yang akan dihabiskan untuk membeli pakaian dan aksesoris =\", round(belibajuaksesoris))\n",
    "print(\"Yang akan dihabiskan untuk membeli alat tulis =\", round(belialattulis))\n",
    "print(\"Yang akan disedekahkan =\", round(buatsedekah))\n",
    "print(\"Yang akan diterima anak yatim =\", round(buatanakyatim))\n",
    "print(\"Yang akan diterima kaum dhuafa =\", round(buatkaumdhuafa))"
   ]
  }
 ],
 "metadata": {
  "kernelspec": {
   "display_name": "Python 3 (ipykernel)",
   "language": "python",
   "name": "python3"
  },
  "language_info": {
   "codemirror_mode": {
    "name": "ipython",
    "version": 3
   },
   "file_extension": ".py",
   "mimetype": "text/x-python",
   "name": "python",
   "nbconvert_exporter": "python",
   "pygments_lexer": "ipython3",
   "version": "3.12.7"
  }
 },
 "nbformat": 4,
 "nbformat_minor": 5
}
