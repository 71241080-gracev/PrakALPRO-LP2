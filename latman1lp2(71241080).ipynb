{
 "cells": [
  {
   "cell_type": "code",
   "execution_count": 1,
   "id": "e33273e9-6fde-4450-96e5-6f449a1d0f96",
   "metadata": {},
   "outputs": [
    {
     "name": "stdin",
     "output_type": "stream",
     "text": [
      "Masukkan BMI (kg/m^2) =  22.5\n",
      "Masukkan tinggi (meter) =  1.49\n"
     ]
    },
    {
     "name": "stdout",
     "output_type": "stream",
     "text": [
      "Berat Anda = 49.95 kg\n"
     ]
    }
   ],
   "source": [
    "BMI=float(input(\"Masukkan BMI (kg/m^2) = \"))\n",
    "tinggi=float(input(\"Masukkan tinggi (meter) = \"))\n",
    "berat=BMI*(tinggi*tinggi)\n",
    "print (\"Berat Anda = %.2f kg\" %(berat))"
   ]
  }
 ],
 "metadata": {
  "kernelspec": {
   "display_name": "Python 3 (ipykernel)",
   "language": "python",
   "name": "python3"
  },
  "language_info": {
   "codemirror_mode": {
    "name": "ipython",
    "version": 3
   },
   "file_extension": ".py",
   "mimetype": "text/x-python",
   "name": "python",
   "nbconvert_exporter": "python",
   "pygments_lexer": "ipython3",
   "version": "3.12.7"
  }
 },
 "nbformat": 4,
 "nbformat_minor": 5
}
